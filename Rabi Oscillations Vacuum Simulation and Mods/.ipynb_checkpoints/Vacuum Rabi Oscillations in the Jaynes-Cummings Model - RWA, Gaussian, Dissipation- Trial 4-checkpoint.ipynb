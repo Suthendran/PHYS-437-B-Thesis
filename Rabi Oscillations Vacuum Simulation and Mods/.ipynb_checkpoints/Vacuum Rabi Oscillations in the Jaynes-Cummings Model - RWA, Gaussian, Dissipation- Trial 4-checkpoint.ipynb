{
 "cells": [
  {
   "cell_type": "code",
   "execution_count": 1,
   "id": "6cbb3a25",
   "metadata": {},
   "outputs": [
    {
     "data": {
      "text/plain": [
       "\"\\nLOL! This doesn't look so hot, but I think I need to be a bit more careful when defining my \\nHamiltonian. \\n1. Remember to change initial state to the ground state. \\n2. The omega only applies to the atomic state... I'm not sure if it's included in the coupling terms.\\nI feel like it is, but we can try both. - Ok so this changed nothing. Now try without the coupling\\nterm. - So trying without the coupling term gives us oscillations... can we mark this a success?  \\nSo let's try this again but with some of these changes. - Let's consider fucking with this now. \\n\""
      ]
     },
     "execution_count": 1,
     "metadata": {},
     "output_type": "execute_result"
    },
    {
     "data": {
      "image/png": "[encoded data removed]",
      "text/plain": [
       "<Figure size 800x500 with 1 Axes>"
      ]
     },
     "metadata": {},
     "output_type": "display_data"
    }
   ],
   "source": [
    "'''\n",
    "Now to add an excitation pulse, now that I think we've appended the Hamiltonian, let's fuck with the \n",
    "initial state, make it the ground state. \n",
    "'''\n",
    "\n",
    "%matplotlib inline\n",
    "import matplotlib.pyplot as plt\n",
    "import numpy as np\n",
    "from qutip import *\n",
    "\n",
    "wc = 1.0  * 2 * np.pi  # cavity frequency\n",
    "wa = 1.0  * 2 * np.pi  # atom frequency\n",
    "g  = 0.05 * 2 * np.pi  # coupling strength\n",
    "kappa = 0.005          # cavity dissipation rate\n",
    "gamma = 0.05           # atom dissipation rate\n",
    "N = 15                 # number of cavity fock states\n",
    "n_th_a = 0.0           # temperature in frequency units\n",
    "use_rwa = True\n",
    "\n",
    "tlist = np.linspace(0,25,100) \n",
    "\n",
    "#Gaussian Pulse, for now I'm just going to take what I had in the 2-Level System Code and go for gold. \n",
    "tp = 0.060       # Gaussian pulse parameter - used the parameter given on the site \n",
    "Om = 19.40                   # driving strength - used parameter given on the site\n",
    "t_offset = 0.405 #temporal offset for the first photon - used parameter given on the site\n",
    "pulse_shape = Om/2 * np.exp(-(tlist - t_offset) ** 2 /\n",
    "                                (2 * tp ** 2))\n",
    "\n",
    "# intial state\n",
    "psi0 = tensor(basis(N,0), basis(2,0))    # start with an excited atom \n",
    "#Change to ground when adding the Gaussian\n",
    "\n",
    "\n",
    "# operators\n",
    "a  = tensor(destroy(N), qeye(2))\n",
    "sm = tensor(qeye(N), destroy(2))\n",
    "\n",
    "# Hamiltonian\n",
    "if use_rwa:\n",
    "    H_C = wc * a.dag() * a + g * (a.dag() * sm + a * sm.dag())\n",
    "    H_A = wa * sm.dag() * sm \n",
    "else:\n",
    "    H_C = wc * a.dag() * a + g * (a.dag() + a) * (sm + sm.dag())\n",
    "    H_A = wa * sm.dag() * sm \n",
    "#The Hamiltonian with consideration to pulse\n",
    "H_I=[H_A,pulse_shape]\n",
    "\n",
    "#Now for the full Hamiltonian\n",
    "H=[H_C,H_I]\n",
    "    \n",
    "'''\n",
    "So notice the difference between the RWA and the non-RWA only the coupling terms are considered in the\n",
    "RWA whereas the non-coupling terms are included in the non-RWA. I think they made a mistake when\n",
    "writing out the Hamiltonian in the code. \n",
    "'''\n",
    "\n",
    "#So notice the difference between the RWA and the non-RWA only the coupling terms are considered in \n",
    "#the RWA whereas the non-coupling terms are included in the non-RWA. I think they made a mistake when\n",
    "#writing out the Hamiltonian in the code. \n",
    "\n",
    "c_op_list = []\n",
    "\n",
    "rate = kappa * (1 + n_th_a)\n",
    "if rate > 0.0:\n",
    "    c_op_list.append(np.sqrt(rate) * a)\n",
    "\n",
    "rate = kappa * n_th_a\n",
    "if rate > 0.0:\n",
    "    c_op_list.append(np.sqrt(rate) * a.dag())\n",
    "\n",
    "rate = gamma\n",
    "if rate > 0.0:\n",
    "    c_op_list.append(np.sqrt(rate) * sm)\n",
    "    \n",
    "#I like the way this is written, perhaps something to yoink into your code. \n",
    "\n",
    "output = mesolve(H, psi0, tlist, c_op_list, [a.dag() * a, sm.dag() * sm])\n",
    "\n",
    "# e_ops could've been simplified with the number operator.\n",
    "\n",
    "fig, ax = plt.subplots(figsize=(8,5))\n",
    "ax.plot(tlist, output.expect[0], label=\"Cavity\")\n",
    "ax.plot(tlist, output.expect[1], label=\"Atom excited state\")\n",
    "ax.legend()\n",
    "ax.set_xlabel('Time')\n",
    "ax.set_ylabel('Occupation probability')\n",
    "ax.set_title('Vacuum Rabi oscillations');\n",
    "\n",
    "'''\n",
    "LOL! This doesn't look so hot, but I think I need to be a bit more careful when defining my \n",
    "Hamiltonian. \n",
    "1. Remember to change initial state to the ground state. \n",
    "2. The omega only applies to the atomic state... I'm not sure if it's included in the coupling terms.\n",
    "I feel like it is, but we can try both. - Ok so this changed nothing. Now try without the coupling\n",
    "term. - So trying without the coupling term gives us oscillations... can we mark this a success?  \n",
    "So let's try this again but with some of these changes. - Let's consider fucking with this now. Yeah\n",
    "it doesn't like this. I think I should find a way to excite the state with the Gaussian and then use\n",
    "the result as the initial state for Rabi Oscillations. For now let's just play with what we have. \n",
    "\n",
    "OK, so now we've got the Hamiltonian. Trial 3 being the most promising code. So now I want to make \n",
    "this a 3-level system? It would be nice to confirm if these results make sense. Oh I guess I could \n",
    "change the 2-level Hamiltonian to include a coupling term... but coupled to what it doesn't make sense\n",
    "... Well I think this means I need to move onto a 3-level system. \n",
    "\n",
    "'''\n"
   ]
  },
  {
   "cell_type": "code",
   "execution_count": null,
   "id": "93d1c541",
   "metadata": {},
   "outputs": [],
   "source": []
  },
  {
   "cell_type": "code",
   "execution_count": null,
   "id": "5f6999b4",
   "metadata": {},
   "outputs": [],
   "source": []
  },
  {
   "cell_type": "code",
   "execution_count": null,
   "id": "62cd7960",
   "metadata": {},
   "outputs": [],
   "source": []
  }
 ],
 "metadata": {
  "kernelspec": {
   "display_name": "Python 3 (ipykernel)",
   "language": "python",
   "name": "python3"
  },
  "language_info": {
   "codemirror_mode": {
    "name": "ipython",
    "version": 3
   },
   "file_extension": ".py",
   "mimetype": "text/x-python",
   "name": "python",
   "nbconvert_exporter": "python",
   "pygments_lexer": "ipython3",
   "version": "3.9.13"
  }
 },
 "nbformat": 4,
 "nbformat_minor": 5
}
