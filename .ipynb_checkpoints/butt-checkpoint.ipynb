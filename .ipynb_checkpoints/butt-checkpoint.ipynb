{
 "cells": [
  {
   "cell_type": "code",
   "execution_count": 3,
   "id": "cb8d527e",
   "metadata": {},
   "outputs": [],
   "source": [
    "#So first I should call the libraries that I'm using numpy,qutip,scipy,and matplot\n",
    "import numpy as np\n",
    "import scipy as sp\n",
    "import matplotlib.pyplot as plt\n",
    "from qutip import *\n",
    "\n",
    "#I need to define my ladder operators, however this is a 3-level system. So first determine the 3-D\n",
    "#Pauli matrices. Then a linear combination of the S_x(3) and S_y(3) will give us our raising and \n",
    "#lowering operators. (Don't fully understand why we are using the Pauli's, outside of using the \n",
    "#argument that infinite dim Hilbert space creation and annihalation operators can not be truncated\n",
    "#without causing major fuckery). I think I remember Matteo mentioning that this was a rotating wave\n",
    "#approximation dealio... but I'm not entirely sure what he means by that. Anyway we have operators \n",
    "#that take us between the three states as well as the S_z(3) operator which remains in the same state.\n",
    "#Knowing this, I used the framework defined in this link:\n",
    "#(https://qutip.org/docs/4.0.2/modules/qutip/three_level_atom.html) to define operators to be used in \n",
    "#this simulation."
   ]
  },
  {
   "cell_type": "code",
   "execution_count": null,
   "id": "2498495b",
   "metadata": {},
   "outputs": [],
   "source": []
  }
 ],
 "metadata": {
  "kernelspec": {
   "display_name": "Python 3 (ipykernel)",
   "language": "python",
   "name": "python3"
  },
  "language_info": {
   "codemirror_mode": {
    "name": "ipython",
    "version": 3
   },
   "file_extension": ".py",
   "mimetype": "text/x-python",
   "name": "python",
   "nbconvert_exporter": "python",
   "pygments_lexer": "ipython3",
   "version": "3.9.13"
  }
 },
 "nbformat": 4,
 "nbformat_minor": 5
}
